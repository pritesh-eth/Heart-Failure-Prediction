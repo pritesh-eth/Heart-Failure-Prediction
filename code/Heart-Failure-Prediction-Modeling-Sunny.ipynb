{
 "cells": [
  {
   "cell_type": "code",
   "execution_count": 522,
   "id": "eab2c607",
   "metadata": {},
   "outputs": [],
   "source": [
    "import sklearn\n",
    "import numpy as np\n",
    "import pandas as pd\n",
    "from sklearn.tree import DecisionTreeClassifier\n",
    "from sklearn.tree import DecisionTreeRegressor\n",
    "import matplotlib.pyplot as plt\n",
    "import seaborn as sns\n",
    "import os\n",
    "from sklearn.metrics import accuracy_score\n",
    "import warnings\n",
    "warnings.filterwarnings(\"ignore\")"
   ]
  },
  {
   "cell_type": "code",
   "execution_count": 523,
   "id": "7fc933d5",
   "metadata": {},
   "outputs": [],
   "source": [
    "heart=pd.read_csv(r'./heart-failure.csv') #importing the data"
   ]
  },
  {
   "cell_type": "code",
   "execution_count": 524,
   "id": "3fa04940",
   "metadata": {
    "scrolled": true
   },
   "outputs": [
    {
     "data": {
      "text/html": [
       "<div>\n",
       "<style scoped>\n",
       "    .dataframe tbody tr th:only-of-type {\n",
       "        vertical-align: middle;\n",
       "    }\n",
       "\n",
       "    .dataframe tbody tr th {\n",
       "        vertical-align: top;\n",
       "    }\n",
       "\n",
       "    .dataframe thead th {\n",
       "        text-align: right;\n",
       "    }\n",
       "</style>\n",
       "<table border=\"1\" class=\"dataframe\">\n",
       "  <thead>\n",
       "    <tr style=\"text-align: right;\">\n",
       "      <th></th>\n",
       "      <th>Age</th>\n",
       "      <th>Sex</th>\n",
       "      <th>ChestPainType</th>\n",
       "      <th>RestingBP</th>\n",
       "      <th>Cholesterol</th>\n",
       "      <th>FastingBS</th>\n",
       "      <th>RestingECG</th>\n",
       "      <th>MaxHR</th>\n",
       "      <th>ExerciseAngina</th>\n",
       "      <th>Oldpeak</th>\n",
       "      <th>ST_Slope</th>\n",
       "      <th>HeartDisease</th>\n",
       "    </tr>\n",
       "  </thead>\n",
       "  <tbody>\n",
       "    <tr>\n",
       "      <th>0</th>\n",
       "      <td>40</td>\n",
       "      <td>M</td>\n",
       "      <td>ATA</td>\n",
       "      <td>140</td>\n",
       "      <td>289</td>\n",
       "      <td>0</td>\n",
       "      <td>Normal</td>\n",
       "      <td>172</td>\n",
       "      <td>N</td>\n",
       "      <td>0.0</td>\n",
       "      <td>Up</td>\n",
       "      <td>0</td>\n",
       "    </tr>\n",
       "    <tr>\n",
       "      <th>1</th>\n",
       "      <td>49</td>\n",
       "      <td>F</td>\n",
       "      <td>NAP</td>\n",
       "      <td>160</td>\n",
       "      <td>180</td>\n",
       "      <td>0</td>\n",
       "      <td>Normal</td>\n",
       "      <td>156</td>\n",
       "      <td>N</td>\n",
       "      <td>1.0</td>\n",
       "      <td>Flat</td>\n",
       "      <td>1</td>\n",
       "    </tr>\n",
       "    <tr>\n",
       "      <th>2</th>\n",
       "      <td>37</td>\n",
       "      <td>M</td>\n",
       "      <td>ATA</td>\n",
       "      <td>130</td>\n",
       "      <td>283</td>\n",
       "      <td>0</td>\n",
       "      <td>ST</td>\n",
       "      <td>98</td>\n",
       "      <td>N</td>\n",
       "      <td>0.0</td>\n",
       "      <td>Up</td>\n",
       "      <td>0</td>\n",
       "    </tr>\n",
       "    <tr>\n",
       "      <th>3</th>\n",
       "      <td>48</td>\n",
       "      <td>F</td>\n",
       "      <td>ASY</td>\n",
       "      <td>138</td>\n",
       "      <td>214</td>\n",
       "      <td>0</td>\n",
       "      <td>Normal</td>\n",
       "      <td>108</td>\n",
       "      <td>Y</td>\n",
       "      <td>1.5</td>\n",
       "      <td>Flat</td>\n",
       "      <td>1</td>\n",
       "    </tr>\n",
       "    <tr>\n",
       "      <th>4</th>\n",
       "      <td>54</td>\n",
       "      <td>M</td>\n",
       "      <td>NAP</td>\n",
       "      <td>150</td>\n",
       "      <td>195</td>\n",
       "      <td>0</td>\n",
       "      <td>Normal</td>\n",
       "      <td>122</td>\n",
       "      <td>N</td>\n",
       "      <td>0.0</td>\n",
       "      <td>Up</td>\n",
       "      <td>0</td>\n",
       "    </tr>\n",
       "    <tr>\n",
       "      <th>...</th>\n",
       "      <td>...</td>\n",
       "      <td>...</td>\n",
       "      <td>...</td>\n",
       "      <td>...</td>\n",
       "      <td>...</td>\n",
       "      <td>...</td>\n",
       "      <td>...</td>\n",
       "      <td>...</td>\n",
       "      <td>...</td>\n",
       "      <td>...</td>\n",
       "      <td>...</td>\n",
       "      <td>...</td>\n",
       "    </tr>\n",
       "    <tr>\n",
       "      <th>913</th>\n",
       "      <td>45</td>\n",
       "      <td>M</td>\n",
       "      <td>TA</td>\n",
       "      <td>110</td>\n",
       "      <td>264</td>\n",
       "      <td>0</td>\n",
       "      <td>Normal</td>\n",
       "      <td>132</td>\n",
       "      <td>N</td>\n",
       "      <td>1.2</td>\n",
       "      <td>Flat</td>\n",
       "      <td>1</td>\n",
       "    </tr>\n",
       "    <tr>\n",
       "      <th>914</th>\n",
       "      <td>68</td>\n",
       "      <td>M</td>\n",
       "      <td>ASY</td>\n",
       "      <td>144</td>\n",
       "      <td>193</td>\n",
       "      <td>1</td>\n",
       "      <td>Normal</td>\n",
       "      <td>141</td>\n",
       "      <td>N</td>\n",
       "      <td>3.4</td>\n",
       "      <td>Flat</td>\n",
       "      <td>1</td>\n",
       "    </tr>\n",
       "    <tr>\n",
       "      <th>915</th>\n",
       "      <td>57</td>\n",
       "      <td>M</td>\n",
       "      <td>ASY</td>\n",
       "      <td>130</td>\n",
       "      <td>131</td>\n",
       "      <td>0</td>\n",
       "      <td>Normal</td>\n",
       "      <td>115</td>\n",
       "      <td>Y</td>\n",
       "      <td>1.2</td>\n",
       "      <td>Flat</td>\n",
       "      <td>1</td>\n",
       "    </tr>\n",
       "    <tr>\n",
       "      <th>916</th>\n",
       "      <td>57</td>\n",
       "      <td>F</td>\n",
       "      <td>ATA</td>\n",
       "      <td>130</td>\n",
       "      <td>236</td>\n",
       "      <td>0</td>\n",
       "      <td>LVH</td>\n",
       "      <td>174</td>\n",
       "      <td>N</td>\n",
       "      <td>0.0</td>\n",
       "      <td>Flat</td>\n",
       "      <td>1</td>\n",
       "    </tr>\n",
       "    <tr>\n",
       "      <th>917</th>\n",
       "      <td>38</td>\n",
       "      <td>M</td>\n",
       "      <td>NAP</td>\n",
       "      <td>138</td>\n",
       "      <td>175</td>\n",
       "      <td>0</td>\n",
       "      <td>Normal</td>\n",
       "      <td>173</td>\n",
       "      <td>N</td>\n",
       "      <td>0.0</td>\n",
       "      <td>Up</td>\n",
       "      <td>0</td>\n",
       "    </tr>\n",
       "  </tbody>\n",
       "</table>\n",
       "<p>918 rows × 12 columns</p>\n",
       "</div>"
      ],
      "text/plain": [
       "     Age Sex ChestPainType  RestingBP  Cholesterol  FastingBS RestingECG  \\\n",
       "0     40   M           ATA        140          289          0     Normal   \n",
       "1     49   F           NAP        160          180          0     Normal   \n",
       "2     37   M           ATA        130          283          0         ST   \n",
       "3     48   F           ASY        138          214          0     Normal   \n",
       "4     54   M           NAP        150          195          0     Normal   \n",
       "..   ...  ..           ...        ...          ...        ...        ...   \n",
       "913   45   M            TA        110          264          0     Normal   \n",
       "914   68   M           ASY        144          193          1     Normal   \n",
       "915   57   M           ASY        130          131          0     Normal   \n",
       "916   57   F           ATA        130          236          0        LVH   \n",
       "917   38   M           NAP        138          175          0     Normal   \n",
       "\n",
       "     MaxHR ExerciseAngina  Oldpeak ST_Slope  HeartDisease  \n",
       "0      172              N      0.0       Up             0  \n",
       "1      156              N      1.0     Flat             1  \n",
       "2       98              N      0.0       Up             0  \n",
       "3      108              Y      1.5     Flat             1  \n",
       "4      122              N      0.0       Up             0  \n",
       "..     ...            ...      ...      ...           ...  \n",
       "913    132              N      1.2     Flat             1  \n",
       "914    141              N      3.4     Flat             1  \n",
       "915    115              Y      1.2     Flat             1  \n",
       "916    174              N      0.0     Flat             1  \n",
       "917    173              N      0.0       Up             0  \n",
       "\n",
       "[918 rows x 12 columns]"
      ]
     },
     "execution_count": 524,
     "metadata": {},
     "output_type": "execute_result"
    }
   ],
   "source": [
    "heart"
   ]
  },
  {
   "cell_type": "markdown",
   "id": "dc76b2bb",
   "metadata": {},
   "source": [
    "# Data Preprocessing"
   ]
  },
  {
   "cell_type": "code",
   "execution_count": 525,
   "id": "aa80a426",
   "metadata": {},
   "outputs": [
    {
     "data": {
      "text/plain": [
       "1    508\n",
       "0    410\n",
       "Name: HeartDisease, dtype: int64"
      ]
     },
     "execution_count": 525,
     "metadata": {},
     "output_type": "execute_result"
    }
   ],
   "source": [
    "heart['HeartDisease'].value_counts() #counts of people having and not having heart disease."
   ]
  },
  {
   "cell_type": "markdown",
   "id": "ea66eba4",
   "metadata": {},
   "source": [
    "### Storing in X and y"
   ]
  },
  {
   "cell_type": "code",
   "execution_count": 526,
   "id": "7f9d40f0",
   "metadata": {},
   "outputs": [],
   "source": [
    "X,y=heart.loc[:,:'ST_Slope'],heart.loc[:,'HeartDisease'] #where X=Feature column, y=Target feture column"
   ]
  },
  {
   "cell_type": "markdown",
   "id": "b98ac947",
   "metadata": {},
   "source": [
    "In the above syntax we are passing all the rows and feature variables starting from age to ST-slope column in X and storing all the rows of heart disease column in y. Also spliting dataset into 2 dataframe namely X,y"
   ]
  },
  {
   "cell_type": "code",
   "execution_count": 527,
   "id": "e6cfb62e",
   "metadata": {},
   "outputs": [
    {
     "data": {
      "text/plain": [
       "(918, 11)"
      ]
     },
     "execution_count": 527,
     "metadata": {},
     "output_type": "execute_result"
    }
   ],
   "source": [
    "X.shape #918 rows of 11 columns stored in X"
   ]
  },
  {
   "cell_type": "code",
   "execution_count": 528,
   "id": "b80b26f2",
   "metadata": {},
   "outputs": [
    {
     "data": {
      "text/html": [
       "<div>\n",
       "<style scoped>\n",
       "    .dataframe tbody tr th:only-of-type {\n",
       "        vertical-align: middle;\n",
       "    }\n",
       "\n",
       "    .dataframe tbody tr th {\n",
       "        vertical-align: top;\n",
       "    }\n",
       "\n",
       "    .dataframe thead th {\n",
       "        text-align: right;\n",
       "    }\n",
       "</style>\n",
       "<table border=\"1\" class=\"dataframe\">\n",
       "  <thead>\n",
       "    <tr style=\"text-align: right;\">\n",
       "      <th></th>\n",
       "      <th>Age</th>\n",
       "      <th>Sex</th>\n",
       "      <th>ChestPainType</th>\n",
       "      <th>RestingBP</th>\n",
       "      <th>Cholesterol</th>\n",
       "      <th>FastingBS</th>\n",
       "      <th>RestingECG</th>\n",
       "      <th>MaxHR</th>\n",
       "      <th>ExerciseAngina</th>\n",
       "      <th>Oldpeak</th>\n",
       "      <th>ST_Slope</th>\n",
       "    </tr>\n",
       "  </thead>\n",
       "  <tbody>\n",
       "    <tr>\n",
       "      <th>0</th>\n",
       "      <td>40</td>\n",
       "      <td>M</td>\n",
       "      <td>ATA</td>\n",
       "      <td>140</td>\n",
       "      <td>289</td>\n",
       "      <td>0</td>\n",
       "      <td>Normal</td>\n",
       "      <td>172</td>\n",
       "      <td>N</td>\n",
       "      <td>0.0</td>\n",
       "      <td>Up</td>\n",
       "    </tr>\n",
       "    <tr>\n",
       "      <th>1</th>\n",
       "      <td>49</td>\n",
       "      <td>F</td>\n",
       "      <td>NAP</td>\n",
       "      <td>160</td>\n",
       "      <td>180</td>\n",
       "      <td>0</td>\n",
       "      <td>Normal</td>\n",
       "      <td>156</td>\n",
       "      <td>N</td>\n",
       "      <td>1.0</td>\n",
       "      <td>Flat</td>\n",
       "    </tr>\n",
       "    <tr>\n",
       "      <th>2</th>\n",
       "      <td>37</td>\n",
       "      <td>M</td>\n",
       "      <td>ATA</td>\n",
       "      <td>130</td>\n",
       "      <td>283</td>\n",
       "      <td>0</td>\n",
       "      <td>ST</td>\n",
       "      <td>98</td>\n",
       "      <td>N</td>\n",
       "      <td>0.0</td>\n",
       "      <td>Up</td>\n",
       "    </tr>\n",
       "    <tr>\n",
       "      <th>3</th>\n",
       "      <td>48</td>\n",
       "      <td>F</td>\n",
       "      <td>ASY</td>\n",
       "      <td>138</td>\n",
       "      <td>214</td>\n",
       "      <td>0</td>\n",
       "      <td>Normal</td>\n",
       "      <td>108</td>\n",
       "      <td>Y</td>\n",
       "      <td>1.5</td>\n",
       "      <td>Flat</td>\n",
       "    </tr>\n",
       "    <tr>\n",
       "      <th>4</th>\n",
       "      <td>54</td>\n",
       "      <td>M</td>\n",
       "      <td>NAP</td>\n",
       "      <td>150</td>\n",
       "      <td>195</td>\n",
       "      <td>0</td>\n",
       "      <td>Normal</td>\n",
       "      <td>122</td>\n",
       "      <td>N</td>\n",
       "      <td>0.0</td>\n",
       "      <td>Up</td>\n",
       "    </tr>\n",
       "    <tr>\n",
       "      <th>...</th>\n",
       "      <td>...</td>\n",
       "      <td>...</td>\n",
       "      <td>...</td>\n",
       "      <td>...</td>\n",
       "      <td>...</td>\n",
       "      <td>...</td>\n",
       "      <td>...</td>\n",
       "      <td>...</td>\n",
       "      <td>...</td>\n",
       "      <td>...</td>\n",
       "      <td>...</td>\n",
       "    </tr>\n",
       "    <tr>\n",
       "      <th>913</th>\n",
       "      <td>45</td>\n",
       "      <td>M</td>\n",
       "      <td>TA</td>\n",
       "      <td>110</td>\n",
       "      <td>264</td>\n",
       "      <td>0</td>\n",
       "      <td>Normal</td>\n",
       "      <td>132</td>\n",
       "      <td>N</td>\n",
       "      <td>1.2</td>\n",
       "      <td>Flat</td>\n",
       "    </tr>\n",
       "    <tr>\n",
       "      <th>914</th>\n",
       "      <td>68</td>\n",
       "      <td>M</td>\n",
       "      <td>ASY</td>\n",
       "      <td>144</td>\n",
       "      <td>193</td>\n",
       "      <td>1</td>\n",
       "      <td>Normal</td>\n",
       "      <td>141</td>\n",
       "      <td>N</td>\n",
       "      <td>3.4</td>\n",
       "      <td>Flat</td>\n",
       "    </tr>\n",
       "    <tr>\n",
       "      <th>915</th>\n",
       "      <td>57</td>\n",
       "      <td>M</td>\n",
       "      <td>ASY</td>\n",
       "      <td>130</td>\n",
       "      <td>131</td>\n",
       "      <td>0</td>\n",
       "      <td>Normal</td>\n",
       "      <td>115</td>\n",
       "      <td>Y</td>\n",
       "      <td>1.2</td>\n",
       "      <td>Flat</td>\n",
       "    </tr>\n",
       "    <tr>\n",
       "      <th>916</th>\n",
       "      <td>57</td>\n",
       "      <td>F</td>\n",
       "      <td>ATA</td>\n",
       "      <td>130</td>\n",
       "      <td>236</td>\n",
       "      <td>0</td>\n",
       "      <td>LVH</td>\n",
       "      <td>174</td>\n",
       "      <td>N</td>\n",
       "      <td>0.0</td>\n",
       "      <td>Flat</td>\n",
       "    </tr>\n",
       "    <tr>\n",
       "      <th>917</th>\n",
       "      <td>38</td>\n",
       "      <td>M</td>\n",
       "      <td>NAP</td>\n",
       "      <td>138</td>\n",
       "      <td>175</td>\n",
       "      <td>0</td>\n",
       "      <td>Normal</td>\n",
       "      <td>173</td>\n",
       "      <td>N</td>\n",
       "      <td>0.0</td>\n",
       "      <td>Up</td>\n",
       "    </tr>\n",
       "  </tbody>\n",
       "</table>\n",
       "<p>918 rows × 11 columns</p>\n",
       "</div>"
      ],
      "text/plain": [
       "     Age Sex ChestPainType  RestingBP  Cholesterol  FastingBS RestingECG  \\\n",
       "0     40   M           ATA        140          289          0     Normal   \n",
       "1     49   F           NAP        160          180          0     Normal   \n",
       "2     37   M           ATA        130          283          0         ST   \n",
       "3     48   F           ASY        138          214          0     Normal   \n",
       "4     54   M           NAP        150          195          0     Normal   \n",
       "..   ...  ..           ...        ...          ...        ...        ...   \n",
       "913   45   M            TA        110          264          0     Normal   \n",
       "914   68   M           ASY        144          193          1     Normal   \n",
       "915   57   M           ASY        130          131          0     Normal   \n",
       "916   57   F           ATA        130          236          0        LVH   \n",
       "917   38   M           NAP        138          175          0     Normal   \n",
       "\n",
       "     MaxHR ExerciseAngina  Oldpeak ST_Slope  \n",
       "0      172              N      0.0       Up  \n",
       "1      156              N      1.0     Flat  \n",
       "2       98              N      0.0       Up  \n",
       "3      108              Y      1.5     Flat  \n",
       "4      122              N      0.0       Up  \n",
       "..     ...            ...      ...      ...  \n",
       "913    132              N      1.2     Flat  \n",
       "914    141              N      3.4     Flat  \n",
       "915    115              Y      1.2     Flat  \n",
       "916    174              N      0.0     Flat  \n",
       "917    173              N      0.0       Up  \n",
       "\n",
       "[918 rows x 11 columns]"
      ]
     },
     "execution_count": 528,
     "metadata": {},
     "output_type": "execute_result"
    }
   ],
   "source": [
    "X"
   ]
  },
  {
   "cell_type": "code",
   "execution_count": 529,
   "id": "beef3cf8",
   "metadata": {},
   "outputs": [
    {
     "data": {
      "text/plain": [
       "(918,)"
      ]
     },
     "execution_count": 529,
     "metadata": {},
     "output_type": "execute_result"
    }
   ],
   "source": [
    "y.shape #918 rows of target feature 'HeartDisease' stored in y "
   ]
  },
  {
   "cell_type": "code",
   "execution_count": 530,
   "id": "82aa5cb9",
   "metadata": {},
   "outputs": [
    {
     "data": {
      "text/plain": [
       "0      0\n",
       "1      1\n",
       "2      0\n",
       "3      1\n",
       "4      0\n",
       "      ..\n",
       "913    1\n",
       "914    1\n",
       "915    1\n",
       "916    1\n",
       "917    0\n",
       "Name: HeartDisease, Length: 918, dtype: int64"
      ]
     },
     "execution_count": 530,
     "metadata": {},
     "output_type": "execute_result"
    }
   ],
   "source": [
    "y"
   ]
  },
  {
   "cell_type": "markdown",
   "id": "feba0bb3",
   "metadata": {},
   "source": [
    "## Encoding of Categorical columns into Numerical Columns"
   ]
  },
  {
   "cell_type": "code",
   "execution_count": 531,
   "id": "1a7f253a",
   "metadata": {},
   "outputs": [
    {
     "data": {
      "text/plain": [
       "array([1, 2, 0, 3])"
      ]
     },
     "execution_count": 531,
     "metadata": {},
     "output_type": "execute_result"
    }
   ],
   "source": [
    "# Import preprocessing\n",
    "from sklearn import preprocessing\n",
    "# from preprocessing we are importing label_encoder  \n",
    "label_encoder = preprocessing.LabelEncoder() #whatever the label, encode it and store in label_encoder\n",
    "X['Sex'] = label_encoder.fit_transform(X['Sex']) #transform label sex(M,F) and store it back in X dataframe\n",
    "X['ChestPainType'] = label_encoder.fit_transform(X['ChestPainType'])\n",
    "X['RestingECG'] = label_encoder.fit_transform(X['RestingECG'])\n",
    "X['ExerciseAngina'] = label_encoder.fit_transform(X['ExerciseAngina'])\n",
    "X['ST_Slope'] = label_encoder.fit_transform(X['ST_Slope']) \n",
    "X['ChestPainType'].unique() #chestpain taking the unique values"
   ]
  },
  {
   "cell_type": "code",
   "execution_count": 532,
   "id": "8176d1bb",
   "metadata": {},
   "outputs": [
    {
     "data": {
      "text/plain": [
       "array(['Up', 'Flat', 'Down'], dtype=object)"
      ]
     },
     "execution_count": 532,
     "metadata": {},
     "output_type": "execute_result"
    }
   ],
   "source": [
    "heart['ST_Slope'].unique() #st_slope in heart data frame in catrgorical form"
   ]
  },
  {
   "cell_type": "code",
   "execution_count": 533,
   "id": "74deda7a",
   "metadata": {},
   "outputs": [
    {
     "data": {
      "text/plain": [
       "0      Up\n",
       "1    Flat\n",
       "2      Up\n",
       "3    Flat\n",
       "4      Up\n",
       "Name: ST_Slope, dtype: object"
      ]
     },
     "execution_count": 533,
     "metadata": {},
     "output_type": "execute_result"
    }
   ],
   "source": [
    "heart['ST_Slope'].head(5) "
   ]
  },
  {
   "cell_type": "code",
   "execution_count": 534,
   "id": "d628dc12",
   "metadata": {},
   "outputs": [
    {
     "data": {
      "text/plain": [
       "0      2\n",
       "1      1\n",
       "2      2\n",
       "3      1\n",
       "4      2\n",
       "      ..\n",
       "913    1\n",
       "914    1\n",
       "915    1\n",
       "916    1\n",
       "917    2\n",
       "Name: ST_Slope, Length: 918, dtype: int32"
      ]
     },
     "execution_count": 534,
     "metadata": {},
     "output_type": "execute_result"
    }
   ],
   "source": [
    "#categorical values transformed into numerical form in preprocessed X dataframe\n",
    "X['ST_Slope'] "
   ]
  },
  {
   "cell_type": "markdown",
   "id": "d083c4f2",
   "metadata": {},
   "source": [
    "## Splitting of train and test data"
   ]
  },
  {
   "cell_type": "code",
   "execution_count": 535,
   "id": "ddb1bb23",
   "metadata": {},
   "outputs": [],
   "source": [
    "from sklearn.model_selection import train_test_split #importing train-test-split"
   ]
  },
  {
   "cell_type": "code",
   "execution_count": 536,
   "id": "5c8f0a01",
   "metadata": {},
   "outputs": [],
   "source": [
    "X_train,X_test,y_train,y_test=train_test_split(X,y,random_state=10,test_size=0.3,shuffle=True)"
   ]
  },
  {
   "cell_type": "raw",
   "id": "64b0a9a6",
   "metadata": {},
   "source": [
    "So xtrain with its label or target variable ytrain will go for training. \n",
    "For testing we will test on xtest data and compare results with ytest data. \n",
    "In random state it will randomly get splited.\n",
    "In test size from whole dataset 30% of data for testing and rest 70% for training. \n",
    "Shuffling includes shuffling of data in unordered form. spliting the X,y dataframe into 4 dataframe: X_train,X_test,y_train,y_test"
   ]
  },
  {
   "cell_type": "code",
   "execution_count": 537,
   "id": "bc1556c3",
   "metadata": {},
   "outputs": [
    {
     "name": "stdout",
     "output_type": "stream",
     "text": [
      "train_set_x shape: (642, 11)\n",
      "train_set_y shape: (642,)\n",
      "test_set_x shape: (276, 11)\n",
      "test_set_y shape: (276,)\n"
     ]
    }
   ],
   "source": [
    "print (\"train_set_x shape: \" + str(X_train.shape))\n",
    "print (\"train_set_y shape: \" + str(y_train.shape))\n",
    "print (\"test_set_x shape: \" + str(X_test.shape))\n",
    "print (\"test_set_y shape: \" + str(y_test.shape))"
   ]
  },
  {
   "cell_type": "markdown",
   "id": "b1fc26fe",
   "metadata": {},
   "source": [
    "train_set_x shape: (642, 11) -> contain 70% of data\n",
    "train_set_y shape: (642,) -> 70% of data but contain only 1 column\n",
    "test_set_x shape: (276, 11) -> contain 30% of data\n",
    "test_set_y shape: (276,) ->30% of data but contain only 1 column"
   ]
  },
  {
   "cell_type": "code",
   "execution_count": 538,
   "id": "0d368a53",
   "metadata": {},
   "outputs": [
    {
     "data": {
      "text/html": [
       "<div>\n",
       "<style scoped>\n",
       "    .dataframe tbody tr th:only-of-type {\n",
       "        vertical-align: middle;\n",
       "    }\n",
       "\n",
       "    .dataframe tbody tr th {\n",
       "        vertical-align: top;\n",
       "    }\n",
       "\n",
       "    .dataframe thead th {\n",
       "        text-align: right;\n",
       "    }\n",
       "</style>\n",
       "<table border=\"1\" class=\"dataframe\">\n",
       "  <thead>\n",
       "    <tr style=\"text-align: right;\">\n",
       "      <th></th>\n",
       "      <th>Age</th>\n",
       "      <th>Sex</th>\n",
       "      <th>ChestPainType</th>\n",
       "      <th>RestingBP</th>\n",
       "      <th>Cholesterol</th>\n",
       "      <th>FastingBS</th>\n",
       "      <th>RestingECG</th>\n",
       "      <th>MaxHR</th>\n",
       "      <th>ExerciseAngina</th>\n",
       "      <th>Oldpeak</th>\n",
       "      <th>ST_Slope</th>\n",
       "    </tr>\n",
       "  </thead>\n",
       "  <tbody>\n",
       "    <tr>\n",
       "      <th>913</th>\n",
       "      <td>45</td>\n",
       "      <td>1</td>\n",
       "      <td>3</td>\n",
       "      <td>110</td>\n",
       "      <td>264</td>\n",
       "      <td>0</td>\n",
       "      <td>1</td>\n",
       "      <td>132</td>\n",
       "      <td>0</td>\n",
       "      <td>1.2</td>\n",
       "      <td>1</td>\n",
       "    </tr>\n",
       "    <tr>\n",
       "      <th>7</th>\n",
       "      <td>54</td>\n",
       "      <td>1</td>\n",
       "      <td>1</td>\n",
       "      <td>110</td>\n",
       "      <td>208</td>\n",
       "      <td>0</td>\n",
       "      <td>1</td>\n",
       "      <td>142</td>\n",
       "      <td>0</td>\n",
       "      <td>0.0</td>\n",
       "      <td>2</td>\n",
       "    </tr>\n",
       "    <tr>\n",
       "      <th>687</th>\n",
       "      <td>70</td>\n",
       "      <td>1</td>\n",
       "      <td>1</td>\n",
       "      <td>156</td>\n",
       "      <td>245</td>\n",
       "      <td>0</td>\n",
       "      <td>0</td>\n",
       "      <td>143</td>\n",
       "      <td>0</td>\n",
       "      <td>0.0</td>\n",
       "      <td>2</td>\n",
       "    </tr>\n",
       "    <tr>\n",
       "      <th>808</th>\n",
       "      <td>35</td>\n",
       "      <td>1</td>\n",
       "      <td>0</td>\n",
       "      <td>126</td>\n",
       "      <td>282</td>\n",
       "      <td>0</td>\n",
       "      <td>0</td>\n",
       "      <td>156</td>\n",
       "      <td>1</td>\n",
       "      <td>0.0</td>\n",
       "      <td>2</td>\n",
       "    </tr>\n",
       "    <tr>\n",
       "      <th>765</th>\n",
       "      <td>41</td>\n",
       "      <td>1</td>\n",
       "      <td>2</td>\n",
       "      <td>112</td>\n",
       "      <td>250</td>\n",
       "      <td>0</td>\n",
       "      <td>1</td>\n",
       "      <td>179</td>\n",
       "      <td>0</td>\n",
       "      <td>0.0</td>\n",
       "      <td>2</td>\n",
       "    </tr>\n",
       "  </tbody>\n",
       "</table>\n",
       "</div>"
      ],
      "text/plain": [
       "     Age  Sex  ChestPainType  RestingBP  Cholesterol  FastingBS  RestingECG  \\\n",
       "913   45    1              3        110          264          0           1   \n",
       "7     54    1              1        110          208          0           1   \n",
       "687   70    1              1        156          245          0           0   \n",
       "808   35    1              0        126          282          0           0   \n",
       "765   41    1              2        112          250          0           1   \n",
       "\n",
       "     MaxHR  ExerciseAngina  Oldpeak  ST_Slope  \n",
       "913    132               0      1.2         1  \n",
       "7      142               0      0.0         2  \n",
       "687    143               0      0.0         2  \n",
       "808    156               1      0.0         2  \n",
       "765    179               0      0.0         2  "
      ]
     },
     "execution_count": 538,
     "metadata": {},
     "output_type": "execute_result"
    }
   ],
   "source": [
    "X_train.head()"
   ]
  },
  {
   "cell_type": "markdown",
   "id": "af87b11d",
   "metadata": {},
   "source": [
    "## Scaling of Data"
   ]
  },
  {
   "cell_type": "code",
   "execution_count": 539,
   "id": "06dbd7af",
   "metadata": {},
   "outputs": [],
   "source": [
    "from sklearn.preprocessing import StandardScaler"
   ]
  },
  {
   "cell_type": "raw",
   "id": "3e7d67a9",
   "metadata": {},
   "source": [
    "Scaling means reducing the distance between values.\n",
    "So while scaling of data we don’t want your model to know about test data because it might cause overfitting. "
   ]
  },
  {
   "cell_type": "code",
   "execution_count": 540,
   "id": "9c0ba3b8",
   "metadata": {},
   "outputs": [],
   "source": [
    "sc=StandardScaler().fit(X_train)\n",
    "X_train_std=sc.transform(X_train)\n",
    "X_test_std=sc.transform(X_test)"
   ]
  },
  {
   "cell_type": "code",
   "execution_count": 541,
   "id": "0bf72d53",
   "metadata": {},
   "outputs": [
    {
     "data": {
      "text/plain": [
       "['sc.sav']"
      ]
     },
     "execution_count": 541,
     "metadata": {},
     "output_type": "execute_result"
    }
   ],
   "source": [
    "joblib.dump(sc, 'sc.sav') #save the model"
   ]
  },
  {
   "cell_type": "markdown",
   "id": "253fbb9c",
   "metadata": {},
   "source": [
    "# ML Modeling"
   ]
  },
  {
   "cell_type": "markdown",
   "id": "4a331be3",
   "metadata": {},
   "source": [
    "## 1) Decision Tree "
   ]
  },
  {
   "cell_type": "code",
   "execution_count": 542,
   "id": "defc93e3",
   "metadata": {},
   "outputs": [
    {
     "data": {
      "text/plain": [
       "DecisionTreeClassifier()"
      ]
     },
     "execution_count": 542,
     "metadata": {},
     "output_type": "execute_result"
    }
   ],
   "source": [
    "from sklearn.tree import DecisionTreeClassifier\n",
    "\n",
    "dt=DecisionTreeClassifier()\n",
    "dt.fit(X_train,y_train)"
   ]
  },
  {
   "cell_type": "code",
   "execution_count": 543,
   "id": "c87dd876",
   "metadata": {},
   "outputs": [],
   "source": [
    "prediction=dt.predict(X_test) #predict on test data where X_test is 30% of data\n",
    "accuracy_dt=accuracy_score(y_test,prediction) * 100 #compare the result with y_test"
   ]
  },
  {
   "cell_type": "code",
   "execution_count": 544,
   "id": "f889bbe5",
   "metadata": {},
   "outputs": [
    {
     "data": {
      "text/plain": [
       "77.89855072463769"
      ]
     },
     "execution_count": 544,
     "metadata": {},
     "output_type": "execute_result"
    }
   ],
   "source": [
    "accuracy_dt #decision tree accuracy score"
   ]
  },
  {
   "cell_type": "markdown",
   "id": "0be12a72",
   "metadata": {},
   "source": [
    "### Feature Importance in Decision Trees"
   ]
  },
  {
   "cell_type": "code",
   "execution_count": 545,
   "id": "966aa68d",
   "metadata": {},
   "outputs": [
    {
     "name": "stdout",
     "output_type": "stream",
     "text": [
      "Feature importances:\n",
      "[0.05745488 0.04188637 0.11264795 0.09976935 0.03837699 0.02207787\n",
      " 0.01700975 0.10962931 0.0242166  0.06296801 0.41396292]\n"
     ]
    }
   ],
   "source": [
    "print(\"Feature importances:\\n{}\".format(dt.feature_importances_))"
   ]
  },
  {
   "cell_type": "code",
   "execution_count": 546,
   "id": "cdc8051e",
   "metadata": {},
   "outputs": [
    {
     "data": {
      "image/png": "[encoded data removed]",
      "text/plain": [
       "<Figure size 864x576 with 1 Axes>"
      ]
     },
     "metadata": {},
     "output_type": "display_data"
    }
   ],
   "source": [
    "def plot_feature_importances_d_t(model):\n",
    "    plt.figure(figsize=(12,8))\n",
    "    n_features = 11\n",
    "    plt.barh(range(n_features), model.feature_importances_, align='center')\n",
    "    plt.yticks(np.arange(n_features), X)\n",
    "    plt.xlabel(\"Feature importance\")\n",
    "    plt.ylabel(\"Feature\")\n",
    "    plt.ylim(-1, n_features)\n",
    "plot_feature_importances_d_t(dt)\n",
    "plt.savefig('feature_importance')"
   ]
  },
  {
   "cell_type": "markdown",
   "id": "fb4a8f1b",
   "metadata": {},
   "source": [
    "## 2) Ensamble Method:- A) Bagging:- Random Forest "
   ]
  },
  {
   "cell_type": "code",
   "execution_count": 547,
   "id": "6138ca01",
   "metadata": {},
   "outputs": [
    {
     "data": {
      "text/plain": [
       "RandomForestClassifier()"
      ]
     },
     "execution_count": 547,
     "metadata": {},
     "output_type": "execute_result"
    }
   ],
   "source": [
    "from sklearn.ensemble import RandomForestClassifier\n",
    "\n",
    "rf=RandomForestClassifier()\n",
    "rf.fit(X_train_std,y_train)"
   ]
  },
  {
   "cell_type": "code",
   "execution_count": 548,
   "id": "c1717b82",
   "metadata": {},
   "outputs": [],
   "source": [
    "prediction=rf.predict(X_test_std)\n",
    "accuracy_rf=accuracy_score(y_test,prediction) * 100"
   ]
  },
  {
   "cell_type": "code",
   "execution_count": 549,
   "id": "3b27585d",
   "metadata": {},
   "outputs": [
    {
     "data": {
      "text/plain": [
       "84.42028985507247"
      ]
     },
     "execution_count": 549,
     "metadata": {},
     "output_type": "execute_result"
    }
   ],
   "source": [
    "accuracy_rf"
   ]
  },
  {
   "cell_type": "markdown",
   "id": "0c2736d8",
   "metadata": {},
   "source": [
    "## B) Boosting:- XG-BOOST"
   ]
  },
  {
   "cell_type": "code",
   "execution_count": 550,
   "id": "5fb2021c",
   "metadata": {},
   "outputs": [],
   "source": [
    "#!pip install xgboost"
   ]
  },
  {
   "cell_type": "code",
   "execution_count": 551,
   "id": "c433edef",
   "metadata": {},
   "outputs": [],
   "source": [
    "import xgboost as xgb\n",
    "xg=xgb.XGBClassifier(random_state=1,learning_rate=0.01)\n",
    "xg.fit(X_train_std, y_train)\n",
    "prediction=xg.predict(X_test_std)\n",
    "accuracy_xg=accuracy_score(y_test,prediction) * 100"
   ]
  },
  {
   "cell_type": "code",
   "execution_count": 552,
   "id": "f70ee999",
   "metadata": {},
   "outputs": [
    {
     "data": {
      "text/plain": [
       "79.71014492753623"
      ]
     },
     "execution_count": 552,
     "metadata": {},
     "output_type": "execute_result"
    }
   ],
   "source": [
    "accuracy_xg"
   ]
  },
  {
   "cell_type": "markdown",
   "id": "2940455b",
   "metadata": {},
   "source": [
    "## C) Boosting:- Ada-Boost Classifier"
   ]
  },
  {
   "cell_type": "code",
   "execution_count": 553,
   "id": "0b748649",
   "metadata": {},
   "outputs": [],
   "source": [
    "from sklearn.ensemble import AdaBoostClassifier\n",
    "\n",
    "abc = AdaBoostClassifier(n_estimators=50,\n",
    "                         learning_rate=1)\n",
    "# Train Adaboost Classifer\n",
    "abc.fit(X_train, y_train)\n",
    "\n",
    "#Predict the response for test dataset\n",
    "prediction=abc.predict(X_test)\n",
    "accuracy_abc=accuracy_score(y_test,prediction) * 100"
   ]
  },
  {
   "cell_type": "code",
   "execution_count": 554,
   "id": "96eccf1a",
   "metadata": {},
   "outputs": [
    {
     "data": {
      "text/plain": [
       "82.6086956521739"
      ]
     },
     "execution_count": 554,
     "metadata": {},
     "output_type": "execute_result"
    }
   ],
   "source": [
    "accuracy_abc"
   ]
  },
  {
   "cell_type": "code",
   "execution_count": 555,
   "id": "22cfc7a4",
   "metadata": {
    "scrolled": true
   },
   "outputs": [
    {
     "data": {
      "image/png": "[encoded data removed]",
      "text/plain": [
       "<Figure size 1080x504 with 1 Axes>"
      ]
     },
     "metadata": {},
     "output_type": "display_data"
    }
   ],
   "source": [
    "algorithms=['Decision Tree','Random Forest', 'XG Boost', 'Ada Boost']\n",
    "scores=[accuracy_dt,accuracy_rf, accuracy_xg, accuracy_abc]\n",
    "\n",
    "sns.set(rc={'figure.figsize':(15,7)})\n",
    "plt.xlabel(\"Algorithms\")\n",
    "plt.ylabel(\"Accuracy score\")\n",
    "\n",
    "sns.barplot(algorithms,scores)\n",
    "plt.show()"
   ]
  },
  {
   "cell_type": "raw",
   "id": "dc64eca3",
   "metadata": {},
   "source": [
    "Comparing all the algorithms where Random Forest gives the highest accuracy."
   ]
  },
  {
   "cell_type": "code",
   "execution_count": 556,
   "id": "3a5a5a6d",
   "metadata": {},
   "outputs": [],
   "source": [
    "import joblib"
   ]
  },
  {
   "cell_type": "code",
   "execution_count": 557,
   "id": "a50f0510",
   "metadata": {},
   "outputs": [
    {
     "data": {
      "text/plain": [
       "['models/rf.sav']"
      ]
     },
     "execution_count": 557,
     "metadata": {},
     "output_type": "execute_result"
    }
   ],
   "source": [
    "joblib.dump(rf, 'models/rf.sav') #save random forest model"
   ]
  },
  {
   "cell_type": "markdown",
   "id": "ea3f8454",
   "metadata": {},
   "source": [
    "# Bagging Implementation for classification and regression from scratch"
   ]
  },
  {
   "cell_type": "code",
   "execution_count": 558,
   "id": "fdf45b43",
   "metadata": {},
   "outputs": [],
   "source": [
    "class MyBagging():\n",
    "\n",
    "    def __init__(self, ML_problem, B):\n",
    "        self.ML_problem = ML_problem\n",
    "        self.B = B\n",
    "        self.prediction_rules = []\n",
    "\n",
    "    def train(self, training_samples, training_labels):\n",
    "        \n",
    "        if self.ML_problem == 'classification':\n",
    "            weak_learner = DecisionTreeClassifier()\n",
    "        else:\n",
    "            weak_learner = DecisionTreeRegressor()\n",
    "\n",
    "        for i in range(self.B):\n",
    "            #combine datset and labels\n",
    "            comb_data = np.insert(training_samples,len(training_samples[0]),training_labels,axis =1)\n",
    "           \n",
    "            #extract bootstrap sample\n",
    "            bootstrapped = []\n",
    "            for i in range(1):\n",
    "                ident = np.random.choice(np.shape(comb_data)[0], size = (np.shape(comb_data)[0]))\n",
    "                temp = comb_data[ident,:]\n",
    "                bootstrapped =  temp\n",
    "\n",
    "            #split bootstrap sample into dataset and labels \n",
    "            curr_bts_sample = bootstrapped[:, :-1]\n",
    "            curr_bts_lables = bootstrapped[:, -1]\n",
    "            #fit\n",
    "            cur_prediction_rule = weak_learner.fit(curr_bts_sample, curr_bts_lables)\n",
    "            self.prediction_rules.append(cur_prediction_rule)\n",
    "\n",
    "    def predict(self, test_data):\n",
    "\n",
    "        test_data = np.array(test_data)\n",
    "        if test_data.ndim == 1:\n",
    "                test_data = test_data.reshape(1, -1)\n",
    "\n",
    "        ensemble_predictions = []\n",
    "\n",
    "        for prediction_rule in self.prediction_rules:\n",
    "            prediciton = prediction_rule.predict(test_data)\n",
    "            ensemble_predictions.append(prediciton)\n",
    "\n",
    "        if self.ML_problem == 'regression':\n",
    "            return sum(ensemble_predictions, axis=0)/len(ensemble_predictions)\n",
    "        else:\n",
    "            final_predictions = []\n",
    "            for i in range(len(ensemble_predictions[0])):\n",
    "                tp = np.array(ensemble_predictions)[:,i].astype(int)\n",
    "                final_predictions.append(np.bincount(tp).argmax()) \n",
    "            return final_predictions"
   ]
  },
  {
   "cell_type": "code",
   "execution_count": 559,
   "id": "df81ea18",
   "metadata": {},
   "outputs": [],
   "source": [
    "hd = MyBagging('classification',100)"
   ]
  },
  {
   "cell_type": "code",
   "execution_count": 560,
   "id": "5adafb7a",
   "metadata": {},
   "outputs": [],
   "source": [
    "hd.train(X_train_std, y_train)"
   ]
  },
  {
   "cell_type": "code",
   "execution_count": 561,
   "id": "ba8cda5c",
   "metadata": {},
   "outputs": [],
   "source": [
    "preds = hd.predict(X_test)\n"
   ]
  },
  {
   "cell_type": "code",
   "execution_count": 562,
   "id": "c9843ab8",
   "metadata": {},
   "outputs": [],
   "source": [
    "my_accuracy_dt=accuracy_score(y_test,preds) * 100"
   ]
  },
  {
   "cell_type": "code",
   "execution_count": 563,
   "id": "21ad93d1",
   "metadata": {},
   "outputs": [
    {
     "data": {
      "text/plain": [
       "49.275362318840585"
      ]
     },
     "execution_count": 563,
     "metadata": {},
     "output_type": "execute_result"
    }
   ],
   "source": [
    "my_accuracy_dt"
   ]
  },
  {
   "cell_type": "code",
   "execution_count": null,
   "id": "7c98a98e",
   "metadata": {},
   "outputs": [],
   "source": []
  }
 ],
 "metadata": {
  "kernelspec": {
   "display_name": "Python 3 (ipykernel)",
   "language": "python",
   "name": "python3"
  },
  "language_info": {
   "codemirror_mode": {
    "name": "ipython",
    "version": 3
   },
   "file_extension": ".py",
   "mimetype": "text/x-python",
   "name": "python",
   "nbconvert_exporter": "python",
   "pygments_lexer": "ipython3",
   "version": "3.9.12"
  },
  "vscode": {
   "interpreter": {
    "hash": "b86e74a1fe5c99121438436cc7adbd8e595662da7eb01c9bac61349ed2644fd7"
   }
  }
 },
 "nbformat": 4,
 "nbformat_minor": 5
}
